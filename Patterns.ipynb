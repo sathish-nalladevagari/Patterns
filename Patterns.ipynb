{
  "nbformat": 4,
  "nbformat_minor": 0,
  "metadata": {
    "colab": {
      "provenance": [],
      "authorship_tag": "ABX9TyPDqdi2C1Eck1f8AI38d2x7",
      "include_colab_link": true
    },
    "kernelspec": {
      "name": "python3",
      "display_name": "Python 3"
    },
    "language_info": {
      "name": "python"
    }
  },
  "cells": [
    {
      "cell_type": "markdown",
      "metadata": {
        "id": "view-in-github",
        "colab_type": "text"
      },
      "source": [
        "<a href=\"https://colab.research.google.com/github/sathish-nalladevagari/Patterns/blob/main/Patterns.ipynb\" target=\"_parent\"><img src=\"https://colab.research.google.com/assets/colab-badge.svg\" alt=\"Open In Colab\"/></a>"
      ]
    },
    {
      "cell_type": "code",
      "execution_count": 5,
      "metadata": {
        "colab": {
          "base_uri": "https://localhost:8080/"
        },
        "id": "tpPYSEiXZnVk",
        "outputId": "f168bd20-352f-4472-d85d-0fbffa64969d"
      },
      "outputs": [
        {
          "output_type": "stream",
          "name": "stdout",
          "text": [
            "* * * * * \n",
            "* * * * * \n",
            "* * * * * \n",
            "* * * * * \n",
            "* * * * * \n"
          ]
        }
      ],
      "source": [
        "def pattern1(n):\n",
        "  for i in range(n):\n",
        "    for j in range(n):\n",
        "      print(\"* \",end=\"\")\n",
        "    print()\n",
        "pattern1(5)"
      ]
    },
    {
      "cell_type": "code",
      "source": [
        "def pattern2(n):\n",
        "  for i in range(n):\n",
        "    for j in range(i+1):\n",
        "      print(\"* \",end=\"\")\n",
        "    print()\n",
        "pattern2(5)\n"
      ],
      "metadata": {
        "colab": {
          "base_uri": "https://localhost:8080/"
        },
        "id": "ejGByAFbdIdU",
        "outputId": "2b774ba1-4d6a-44a6-d897-92b1d2f079a7"
      },
      "execution_count": 12,
      "outputs": [
        {
          "output_type": "stream",
          "name": "stdout",
          "text": [
            "* \n",
            "* * \n",
            "* * * \n",
            "* * * * \n",
            "* * * * * \n"
          ]
        }
      ]
    },
    {
      "cell_type": "code",
      "source": [
        "def pattern3(n):\n",
        "  for i in range(n):\n",
        "    for j in range(i,n):\n",
        "      print(\"* \",end=\"\")\n",
        "    print()\n",
        "pattern3(5)"
      ],
      "metadata": {
        "colab": {
          "base_uri": "https://localhost:8080/"
        },
        "id": "_7DEsW73dJ0E",
        "outputId": "2eccbe15-eb5c-492b-b656-44f6e3f096fc"
      },
      "execution_count": 13,
      "outputs": [
        {
          "output_type": "stream",
          "name": "stdout",
          "text": [
            "* * * * * \n",
            "* * * * \n",
            "* * * \n",
            "* * \n",
            "* \n"
          ]
        }
      ]
    },
    {
      "cell_type": "code",
      "source": [
        "def pattern4(n):\n",
        "  for i in range(n):\n",
        "    for j in range(i,n):\n",
        "      print(\" \",end=\" \")\n",
        "    for l in range(i+1):\n",
        "      print(\"*\",end=\" \")\n",
        "    print()\n",
        "pattern4(5)"
      ],
      "metadata": {
        "colab": {
          "base_uri": "https://localhost:8080/"
        },
        "id": "iQwj-vt3gyHx",
        "outputId": "a099b1e8-0780-4d2e-f064-346cdc70e649"
      },
      "execution_count": 25,
      "outputs": [
        {
          "output_type": "stream",
          "name": "stdout",
          "text": [
            "          * \n",
            "        * * \n",
            "      * * * \n",
            "    * * * * \n",
            "  * * * * * \n"
          ]
        }
      ]
    },
    {
      "cell_type": "code",
      "source": [
        "def pattern5(n):\n",
        "  for i in range(n):\n",
        "    for j in range(i,n):\n",
        "      print(\" * \",end=\" \")\n",
        "    for k in range(i+1):\n",
        "      print(\"\",end=' ')\n",
        "    print()\n",
        "pattern5(5)"
      ],
      "metadata": {
        "colab": {
          "base_uri": "https://localhost:8080/"
        },
        "id": "lmiyANy1h6kY",
        "outputId": "43e9ced3-9186-4c1a-8c79-138bb91267c4"
      },
      "execution_count": 32,
      "outputs": [
        {
          "output_type": "stream",
          "name": "stdout",
          "text": [
            " *   *   *   *   *   \n",
            " *   *   *   *    \n",
            " *   *   *     \n",
            " *   *      \n",
            " *       \n"
          ]
        }
      ]
    },
    {
      "cell_type": "code",
      "source": [
        "def pattern6(n):\n",
        "  for i in range(n):\n",
        "    for j in range(i,n):\n",
        "      print(\" \",end=' ')\n",
        "    for k in range(i):\n",
        "      print(\"*\",end=' ')\n",
        "    for l in range(i+1):\n",
        "      print(\"*\",end=' ')\n",
        "    print()\n",
        "pattern6(5)"
      ],
      "metadata": {
        "colab": {
          "base_uri": "https://localhost:8080/"
        },
        "id": "fubc1SX0jCcf",
        "outputId": "9e933a4f-53a7-408c-866d-43b594e4d866"
      },
      "execution_count": 39,
      "outputs": [
        {
          "output_type": "stream",
          "name": "stdout",
          "text": [
            "          * \n",
            "        * * * \n",
            "      * * * * * \n",
            "    * * * * * * * \n",
            "  * * * * * * * * * \n"
          ]
        }
      ]
    },
    {
      "cell_type": "code",
      "source": [
        "def pattern7(n):\n",
        "  for i in range(n):\n",
        "    for j in range(i+1):\n",
        "      print(\" \",end=' ')\n",
        "    for j in range(i,n-1):\n",
        "      print(\"*\",end=\" \")\n",
        "    for j in range(i,n):\n",
        "      print(\"*\",end=\" \")\n",
        "    print()\n",
        "pattern7(5)"
      ],
      "metadata": {
        "colab": {
          "base_uri": "https://localhost:8080/"
        },
        "id": "dR5ZKQHkkNE8",
        "outputId": "a51a2374-da25-4913-e9ab-a07b940a046d"
      },
      "execution_count": 42,
      "outputs": [
        {
          "output_type": "stream",
          "name": "stdout",
          "text": [
            "  * * * * * * * * * \n",
            "    * * * * * * * \n",
            "      * * * * * \n",
            "        * * * \n",
            "          * \n"
          ]
        }
      ]
    },
    {
      "cell_type": "code",
      "source": [
        "def pattern8(n):\n",
        "  for i in range(n-1):\n",
        "    for j in range(i,n):\n",
        "      print(\" \",end=' ')\n",
        "    for j in range(i):\n",
        "      print(\"*\",end=\" \")\n",
        "    for j in range(i+1):\n",
        "      print(\"*\",end=\" \")\n",
        "    print()\n",
        "  for i in range(n):\n",
        "    for j in range(i+1):\n",
        "      print(\" \",end=\" \")\n",
        "    for j in range(i,n-1):\n",
        "      print(\"*\",end=' ')\n",
        "    for j in range(i,n):\n",
        "      print(\"*\",end=\" \")\n",
        "    print()\n",
        "pattern8(5)"
      ],
      "metadata": {
        "colab": {
          "base_uri": "https://localhost:8080/"
        },
        "id": "3NyoUeiulD5s",
        "outputId": "7faf1cd4-bc53-470a-944c-1770949b4a06"
      },
      "execution_count": 50,
      "outputs": [
        {
          "output_type": "stream",
          "name": "stdout",
          "text": [
            "          * \n",
            "        * * * \n",
            "      * * * * * \n",
            "    * * * * * * * \n",
            "  * * * * * * * * * \n",
            "    * * * * * * * \n",
            "      * * * * * \n",
            "        * * * \n",
            "          * \n"
          ]
        }
      ]
    },
    {
      "cell_type": "code",
      "source": [],
      "metadata": {
        "id": "7jrSDImmmC3U"
      },
      "execution_count": null,
      "outputs": []
    }
  ]
}