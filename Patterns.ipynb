{
  "nbformat": 4,
  "nbformat_minor": 0,
  "metadata": {
    "colab": {
      "provenance": [],
      "authorship_tag": "ABX9TyPKOF3SbDO7xScll4RyYYxI",
      "include_colab_link": true
    },
    "kernelspec": {
      "name": "python3",
      "display_name": "Python 3"
    },
    "language_info": {
      "name": "python"
    }
  },
  "cells": [
    {
      "cell_type": "markdown",
      "metadata": {
        "id": "view-in-github",
        "colab_type": "text"
      },
      "source": [
        "<a href=\"https://colab.research.google.com/github/sathish-nalladevagari/Patterns/blob/main/Patterns.ipynb\" target=\"_parent\"><img src=\"https://colab.research.google.com/assets/colab-badge.svg\" alt=\"Open In Colab\"/></a>"
      ]
    },
    {
      "cell_type": "code",
      "execution_count": 5,
      "metadata": {
        "colab": {
          "base_uri": "https://localhost:8080/"
        },
        "id": "tpPYSEiXZnVk",
        "outputId": "f168bd20-352f-4472-d85d-0fbffa64969d"
      },
      "outputs": [
        {
          "output_type": "stream",
          "name": "stdout",
          "text": [
            "* * * * * \n",
            "* * * * * \n",
            "* * * * * \n",
            "* * * * * \n",
            "* * * * * \n"
          ]
        }
      ],
      "source": [
        "def pattern1(n):\n",
        "  for i in range(n):\n",
        "    for j in range(n):\n",
        "      print(\"* \",end=\"\")\n",
        "    print()\n",
        "pattern1(5)"
      ]
    },
    {
      "cell_type": "code",
      "source": [
        "def pattern2(n):\n",
        "  for i in range(n):\n",
        "    for j in range(i+1):\n",
        "      print(\"* \",end=\"\")\n",
        "    print()\n",
        "pattern2(5)\n"
      ],
      "metadata": {
        "colab": {
          "base_uri": "https://localhost:8080/"
        },
        "id": "ejGByAFbdIdU",
        "outputId": "2b774ba1-4d6a-44a6-d897-92b1d2f079a7"
      },
      "execution_count": 12,
      "outputs": [
        {
          "output_type": "stream",
          "name": "stdout",
          "text": [
            "* \n",
            "* * \n",
            "* * * \n",
            "* * * * \n",
            "* * * * * \n"
          ]
        }
      ]
    },
    {
      "cell_type": "code",
      "source": [
        "def pattern3(n):\n",
        "  for i in range(n):\n",
        "    for j in range(i,n):\n",
        "      print(\"* \",end=\"\")\n",
        "    print()\n",
        "pattern3(5)"
      ],
      "metadata": {
        "colab": {
          "base_uri": "https://localhost:8080/"
        },
        "id": "_7DEsW73dJ0E",
        "outputId": "2eccbe15-eb5c-492b-b656-44f6e3f096fc"
      },
      "execution_count": 13,
      "outputs": [
        {
          "output_type": "stream",
          "name": "stdout",
          "text": [
            "* * * * * \n",
            "* * * * \n",
            "* * * \n",
            "* * \n",
            "* \n"
          ]
        }
      ]
    },
    {
      "cell_type": "code",
      "source": [
        "def pattern4(n):\n",
        "  for i in range(n):\n",
        "    for j in range(i,n):\n",
        "      print(\" \",end=\" \")\n",
        "    for l in range(i+1):\n",
        "      print(\"*\",end=\" \")\n",
        "    print()\n",
        "pattern4(5)"
      ],
      "metadata": {
        "colab": {
          "base_uri": "https://localhost:8080/"
        },
        "id": "iQwj-vt3gyHx",
        "outputId": "a099b1e8-0780-4d2e-f064-346cdc70e649"
      },
      "execution_count": 25,
      "outputs": [
        {
          "output_type": "stream",
          "name": "stdout",
          "text": [
            "          * \n",
            "        * * \n",
            "      * * * \n",
            "    * * * * \n",
            "  * * * * * \n"
          ]
        }
      ]
    },
    {
      "cell_type": "code",
      "source": [
        "def pattern5(n):\n",
        "  for i in range(n):\n",
        "    for j in range(i,n):\n",
        "      print(\" * \",end=\" \")\n",
        "    for k in range(i+1):\n",
        "      print(\"\",end=' ')\n",
        "    print()\n",
        "pattern5(5)"
      ],
      "metadata": {
        "colab": {
          "base_uri": "https://localhost:8080/"
        },
        "id": "lmiyANy1h6kY",
        "outputId": "43e9ced3-9186-4c1a-8c79-138bb91267c4"
      },
      "execution_count": 32,
      "outputs": [
        {
          "output_type": "stream",
          "name": "stdout",
          "text": [
            " *   *   *   *   *   \n",
            " *   *   *   *    \n",
            " *   *   *     \n",
            " *   *      \n",
            " *       \n"
          ]
        }
      ]
    },
    {
      "cell_type": "code",
      "source": [
        "def pattern6(n):\n",
        "  for i in range(n):\n",
        "    for j in range(i,n):\n",
        "      print(\" \",end=' ')\n",
        "    for k in range(i):\n",
        "      print(\"*\",end=' ')\n",
        "    for l in range(i+1):\n",
        "      print(\"*\",end=' ')\n",
        "    print()\n",
        "pattern6(5)"
      ],
      "metadata": {
        "colab": {
          "base_uri": "https://localhost:8080/"
        },
        "id": "fubc1SX0jCcf",
        "outputId": "9e933a4f-53a7-408c-866d-43b594e4d866"
      },
      "execution_count": 39,
      "outputs": [
        {
          "output_type": "stream",
          "name": "stdout",
          "text": [
            "          * \n",
            "        * * * \n",
            "      * * * * * \n",
            "    * * * * * * * \n",
            "  * * * * * * * * * \n"
          ]
        }
      ]
    },
    {
      "cell_type": "code",
      "source": [
        "def pattern7(n):\n",
        "  for i in range(n):\n",
        "    for j in range(i+1):\n",
        "      print(\" \",end=' ')\n",
        "    for j in range(i,n-1):\n",
        "      print(\"*\",end=\" \")\n",
        "    for j in range(i,n):\n",
        "      print(\"*\",end=\" \")\n",
        "    print()\n",
        "pattern7(5)"
      ],
      "metadata": {
        "colab": {
          "base_uri": "https://localhost:8080/"
        },
        "id": "dR5ZKQHkkNE8",
        "outputId": "a51a2374-da25-4913-e9ab-a07b940a046d"
      },
      "execution_count": 42,
      "outputs": [
        {
          "output_type": "stream",
          "name": "stdout",
          "text": [
            "  * * * * * * * * * \n",
            "    * * * * * * * \n",
            "      * * * * * \n",
            "        * * * \n",
            "          * \n"
          ]
        }
      ]
    },
    {
      "cell_type": "code",
      "source": [
        "def pattern8(n):\n",
        "  for i in range(n-1):\n",
        "    for j in range(i,n):\n",
        "      print(\" \",end=' ')\n",
        "    for j in range(i):\n",
        "      print(\"*\",end=\" \")\n",
        "    for j in range(i+1):\n",
        "      print(\"*\",end=\" \")\n",
        "    print()\n",
        "  for i in range(n):\n",
        "    for j in range(i+1):\n",
        "      print(\" \",end=\" \")\n",
        "    for j in range(i,n-1):\n",
        "      print(\"*\",end=' ')\n",
        "    for j in range(i,n):\n",
        "      print(\"*\",end=\" \")\n",
        "    print()\n",
        "pattern8(5)"
      ],
      "metadata": {
        "colab": {
          "base_uri": "https://localhost:8080/"
        },
        "id": "3NyoUeiulD5s",
        "outputId": "7faf1cd4-bc53-470a-944c-1770949b4a06"
      },
      "execution_count": 50,
      "outputs": [
        {
          "output_type": "stream",
          "name": "stdout",
          "text": [
            "          * \n",
            "        * * * \n",
            "      * * * * * \n",
            "    * * * * * * * \n",
            "  * * * * * * * * * \n",
            "    * * * * * * * \n",
            "      * * * * * \n",
            "        * * * \n",
            "          * \n"
          ]
        }
      ]
    },
    {
      "cell_type": "code",
      "source": [
        "def pattern9(n):\n",
        "  p=1\n",
        "  for i in range(n):\n",
        "    for j in range(i+1):\n",
        "      print(p,end=\" \")\n",
        "    p+=1\n",
        "    print()\n",
        "pattern9(5)"
      ],
      "metadata": {
        "colab": {
          "base_uri": "https://localhost:8080/"
        },
        "id": "7jrSDImmmC3U",
        "outputId": "c950ed0e-563c-4266-b3bb-d75b2734d9aa"
      },
      "execution_count": 53,
      "outputs": [
        {
          "output_type": "stream",
          "name": "stdout",
          "text": [
            "1 \n",
            "2 2 \n",
            "3 3 3 \n",
            "4 4 4 4 \n",
            "5 5 5 5 5 \n"
          ]
        }
      ]
    },
    {
      "cell_type": "code",
      "source": [
        "def pattern10(n):\n",
        "  p=1\n",
        "  for i in range(n):\n",
        "    for j in range(i,n):\n",
        "      if i%2==0:\n",
        "        print(\"1\",end=\" \")\n",
        "      else:\n",
        "        print(\"0\",end=\" \")\n",
        "    print()\n",
        "pattern10(5)"
      ],
      "metadata": {
        "colab": {
          "base_uri": "https://localhost:8080/"
        },
        "id": "1BER5I934tt6",
        "outputId": "31c8e619-2ed7-48c6-e94b-50aff2e051ca"
      },
      "execution_count": 54,
      "outputs": [
        {
          "output_type": "stream",
          "name": "stdout",
          "text": [
            "1 1 1 1 1 \n",
            "0 0 0 0 \n",
            "1 1 1 \n",
            "0 0 \n",
            "1 \n"
          ]
        }
      ]
    },
    {
      "cell_type": "code",
      "source": [
        "def pattern11(n):\n",
        "  for i in range(n):\n",
        "    p=1\n",
        "    for j in range(i+1):\n",
        "      print(p,end=\" \")\n",
        "      p+=1\n",
        "    print()\n",
        "pattern11(5)\n"
      ],
      "metadata": {
        "colab": {
          "base_uri": "https://localhost:8080/"
        },
        "id": "ByZbze4I5U0l",
        "outputId": "4487ed76-7f4d-41f8-86c7-1fa763a45e76"
      },
      "execution_count": 55,
      "outputs": [
        {
          "output_type": "stream",
          "name": "stdout",
          "text": [
            "1 \n",
            "1 2 \n",
            "1 2 3 \n",
            "1 2 3 4 \n",
            "1 2 3 4 5 \n"
          ]
        }
      ]
    },
    {
      "cell_type": "code",
      "source": [
        "def pattern12(n):\n",
        "  for i in range(n):\n",
        "    p=1\n",
        "    for j in range(i,n):\n",
        "      print(\" \",end=\" \")\n",
        "    for j in range(i):\n",
        "      print(p,end=\" \")\n",
        "      p+=1\n",
        "    for j in range(i+1):\n",
        "      print(p,end=\" \")\n",
        "      p+=1\n",
        "    print()\n",
        "pattern12(5)"
      ],
      "metadata": {
        "colab": {
          "base_uri": "https://localhost:8080/"
        },
        "id": "1ea_2ODu58Pf",
        "outputId": "ee495430-1d8b-4fe2-9743-686b611e35b4"
      },
      "execution_count": 62,
      "outputs": [
        {
          "output_type": "stream",
          "name": "stdout",
          "text": [
            "          1 \n",
            "        1 2 3 \n",
            "      1 2 3 4 5 \n",
            "    1 2 3 4 5 6 7 \n",
            "  1 2 3 4 5 6 7 8 9 \n"
          ]
        }
      ]
    },
    {
      "cell_type": "code",
      "source": [],
      "metadata": {
        "id": "qOHsj3xv6pqm"
      },
      "execution_count": null,
      "outputs": []
    }
  ]
}